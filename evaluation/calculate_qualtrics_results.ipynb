{
 "cells": [
  {
   "cell_type": "code",
   "execution_count": 165,
   "metadata": {},
   "outputs": [],
   "source": [
    "import pandas as pd\n",
    "df = pd.read_csv(\"D:/Documenten/Schoolwerk/paraphraser_code/evaluation/qualtrics_two_evaluators_anon.csv\")\n",
    "df = df.drop(columns=df.columns[df.columns.str.contains('Unnamed')])\n",
    "#exclude information we do not use\n",
    "exclude_columns = ['StartDate', 'EndDate', 'Status', 'IPAddress', 'Progress',\n",
    "       'Duration (in seconds)', 'Finished', 'RecordedDate', 'ResponseId',\n",
    "       'RecipientLastName', 'RecipientFirstName', 'RecipientEmail',\n",
    "       'ExternalReference', 'LocationLatitude', 'LocationLongitude',\n",
    "       'DistributionChannel', 'UserLanguage']"
   ]
  },
  {
   "cell_type": "code",
   "execution_count": 166,
   "metadata": {},
   "outputs": [
    {
     "data": {
      "text/html": [
       "<div>\n",
       "<style scoped>\n",
       "    .dataframe tbody tr th:only-of-type {\n",
       "        vertical-align: middle;\n",
       "    }\n",
       "\n",
       "    .dataframe tbody tr th {\n",
       "        vertical-align: top;\n",
       "    }\n",
       "\n",
       "    .dataframe thead th {\n",
       "        text-align: right;\n",
       "    }\n",
       "</style>\n",
       "<table border=\"1\" class=\"dataframe\">\n",
       "  <thead>\n",
       "    <tr style=\"text-align: right;\">\n",
       "      <th></th>\n",
       "      <th>QID2_1</th>\n",
       "      <th>QID2_2</th>\n",
       "      <th>QID2_3</th>\n",
       "      <th>QID2_4</th>\n",
       "      <th>QID2_5</th>\n",
       "      <th>QID2_6</th>\n",
       "      <th>QID2_7</th>\n",
       "      <th>QID2_8</th>\n",
       "      <th>QID2_9</th>\n",
       "      <th>QID2_10</th>\n",
       "      <th>...</th>\n",
       "      <th>QID284_2</th>\n",
       "      <th>QID284_3</th>\n",
       "      <th>QID284_4</th>\n",
       "      <th>QID284_5</th>\n",
       "      <th>QID284_6</th>\n",
       "      <th>QID284_7</th>\n",
       "      <th>QID284_8</th>\n",
       "      <th>QID284_9</th>\n",
       "      <th>QID284_10</th>\n",
       "      <th>QID284_11</th>\n",
       "    </tr>\n",
       "  </thead>\n",
       "  <tbody>\n",
       "    <tr>\n",
       "      <th>1</th>\n",
       "      <td>4</td>\n",
       "      <td>3</td>\n",
       "      <td>3</td>\n",
       "      <td>3</td>\n",
       "      <td>4</td>\n",
       "      <td>4</td>\n",
       "      <td>2</td>\n",
       "      <td>4</td>\n",
       "      <td>4</td>\n",
       "      <td>2</td>\n",
       "      <td>...</td>\n",
       "      <td>1</td>\n",
       "      <td>2</td>\n",
       "      <td>2</td>\n",
       "      <td>2</td>\n",
       "      <td>2</td>\n",
       "      <td>2</td>\n",
       "      <td>2</td>\n",
       "      <td>2</td>\n",
       "      <td>3</td>\n",
       "      <td>2</td>\n",
       "    </tr>\n",
       "  </tbody>\n",
       "</table>\n",
       "<p>1 rows × 3113 columns</p>\n",
       "</div>"
      ],
      "text/plain": [
       "   QID2_1  QID2_2  QID2_3  QID2_4  QID2_5  QID2_6  QID2_7  QID2_8  QID2_9  \\\n",
       "1       4       3       3       3       4       4       2       4       4   \n",
       "\n",
       "   QID2_10  ...  QID284_2  QID284_3  QID284_4  QID284_5  QID284_6  QID284_7  \\\n",
       "1        2  ...         1         2         2         2         2         2   \n",
       "\n",
       "   QID284_8  QID284_9  QID284_10  QID284_11  \n",
       "1         2         2          3          2  \n",
       "\n",
       "[1 rows x 3113 columns]"
      ]
     },
     "execution_count": 166,
     "metadata": {},
     "output_type": "execute_result"
    }
   ],
   "source": [
    "df.iloc[1:2]"
   ]
  },
  {
   "cell_type": "code",
   "execution_count": 167,
   "metadata": {},
   "outputs": [
    {
     "data": {
      "text/plain": [
       "[('candidate_mbart_v1', 929),\n",
       " ('candidate_mbart_v3_late', 983),\n",
       " ('candidate_mbart_v4_late', 999),\n",
       " ('candidate_ul2_v1', 985),\n",
       " ('candidate_mbart_v2', 983),\n",
       " ('candidate_ul2_v2', 1065),\n",
       " ('candidate_mbart_v3', 1007),\n",
       " ('candidate_ul2_v3', 1035),\n",
       " ('candidate_mbart_v4', 1009),\n",
       " ('candidate_ul2_v4', 1062),\n",
       " ('candidate_ul2_v3_late', 1051)]"
      ]
     },
     "execution_count": 167,
     "metadata": {},
     "output_type": "execute_result"
    }
   ],
   "source": [
    "#first annotator\n",
    "#grab first annotator answers\n",
    "df_first_annotator = df.loc[:, ~df.columns.isin(exclude_columns)].iloc[0:1]\n",
    "df_first_annotator\n",
    "\n",
    "grouped = df_first_annotator.groupby(df_first_annotator.columns.str.split('_').str[-1], axis=1)\n",
    "#['Mbart_v1', 'Mbart_v2'................]\n",
    "options = ['candidate_mbart_v1','candidate_ul2_v1', 'candidate_mbart_v2', 'candidate_ul2_v2',\n",
    "       'candidate_mbart_v3', 'candidate_ul2_v3', 'candidate_mbart_v4',\n",
    "       'candidate_ul2_v4', 'candidate_ul2_v3_late', 'candidate_mbart_v3_late',\n",
    "       'candidate_mbart_v4_late']\n",
    "\n",
    "# Sum the values within each group \n",
    "summed_dfs = [(options[int(col)-1], grouped.get_group(col).fillna(0).astype(int).sum(numeric_only=True).sum()) for col in grouped.groups]\n",
    "summed_dfs"
   ]
  },
  {
   "cell_type": "code",
   "execution_count": 168,
   "metadata": {},
   "outputs": [
    {
     "data": {
      "text/plain": [
       "[('candidate_mbart_v1', 950),\n",
       " ('candidate_mbart_v3_late', 972),\n",
       " ('candidate_mbart_v4_late', 981),\n",
       " ('candidate_ul2_v1', 1001),\n",
       " ('candidate_mbart_v2', 1005),\n",
       " ('candidate_ul2_v2', 1089),\n",
       " ('candidate_mbart_v3', 1014),\n",
       " ('candidate_ul2_v3', 1028),\n",
       " ('candidate_mbart_v4', 1020),\n",
       " ('candidate_ul2_v4', 1081),\n",
       " ('candidate_ul2_v3_late', 1039)]"
      ]
     },
     "execution_count": 168,
     "metadata": {},
     "output_type": "execute_result"
    }
   ],
   "source": [
    "#second annotator \n",
    "df_2nd_annotator = df.loc[:, ~df.columns.isin(exclude_columns)].iloc[1:2]\n",
    "\n",
    "grouped_2nd = df_2nd_annotator.groupby(df_2nd_annotator.columns.str.split('_').str[-1], axis=1)\n",
    "#['Mbart_v1', 'Mbart_v2'................]\n",
    "options = ['candidate_mbart_v1','candidate_ul2_v1', 'candidate_mbart_v2', 'candidate_ul2_v2',\n",
    "       'candidate_mbart_v3', 'candidate_ul2_v3', 'candidate_mbart_v4',\n",
    "       'candidate_ul2_v4', 'candidate_ul2_v3_late', 'candidate_mbart_v3_late',\n",
    "       'candidate_mbart_v4_late']\n",
    "\n",
    "# Sum the values within each group \n",
    "summed_dfs_2nd = [(options[int(col)-1], grouped_2nd.get_group(col).fillna(0).astype(int).sum(numeric_only=True).sum()) for col in grouped_2nd.groups]\n",
    "summed_dfs_2nd"
   ]
  },
  {
   "cell_type": "code",
   "execution_count": 169,
   "metadata": {},
   "outputs": [
    {
     "data": {
      "text/plain": [
       "True"
      ]
     },
     "execution_count": 169,
     "metadata": {},
     "output_type": "execute_result"
    }
   ],
   "source": [
    "grouped_2nd.groups.keys() == grouped.groups.keys()"
   ]
  },
  {
   "cell_type": "code",
   "execution_count": 170,
   "metadata": {},
   "outputs": [
    {
     "name": "stdout",
     "output_type": "stream",
     "text": [
      "Cohen's Kappa: 0.5867700641431323\n"
     ]
    }
   ],
   "source": [
    "from sklearn.metrics import cohen_kappa_score\n",
    "rater1_ratings = list(df_first_annotator.iloc[0])\n",
    "rater2_ratings = list(df_2nd_annotator.iloc[0])\n",
    "\n",
    "kappa = cohen_kappa_score(rater1_ratings, rater2_ratings, weights='quadratic')\n",
    "\n",
    "print(\"Cohen's Kappa:\", kappa)"
   ]
  },
  {
   "cell_type": "code",
   "execution_count": 171,
   "metadata": {},
   "outputs": [
    {
     "name": "stdout",
     "output_type": "stream",
     "text": [
      "First annotator\n",
      "candidate_mbart_v1 3.282685512367491\n",
      "candidate_mbart_v3_late 3.4734982332155475\n",
      "candidate_mbart_v2 3.4734982332155475\n",
      "candidate_ul2_v1 3.480565371024735\n",
      "candidate_mbart_v4_late 3.530035335689046\n",
      "candidate_mbart_v3 3.558303886925795\n",
      "candidate_mbart_v4 3.5653710247349824\n",
      "candidate_ul2_v3 3.6572438162544167\n",
      "candidate_ul2_v3_late 3.7137809187279154\n",
      "candidate_ul2_v4 3.7526501766784452\n",
      "candidate_ul2_v2 3.7632508833922262\n"
     ]
    }
   ],
   "source": [
    "sorted_data_1 = sorted(summed_dfs, key=lambda x: x[1])\n",
    "# Display the sorted list\n",
    "print('First annotator')\n",
    "for item in sorted_data_1:\n",
    "    print(item[0], item[1]/283)"
   ]
  },
  {
   "cell_type": "code",
   "execution_count": 172,
   "metadata": {},
   "outputs": [
    {
     "name": "stdout",
     "output_type": "stream",
     "text": [
      "Second annotator\n",
      "candidate_mbart_v1 3.3568904593639575\n",
      "candidate_mbart_v3_late 3.4346289752650176\n",
      "candidate_mbart_v4_late 3.4664310954063606\n",
      "candidate_ul2_v1 3.537102473498233\n",
      "candidate_mbart_v2 3.5512367491166077\n",
      "candidate_mbart_v3 3.5830388692579507\n",
      "candidate_mbart_v4 3.604240282685512\n",
      "candidate_ul2_v3 3.6325088339222615\n",
      "candidate_ul2_v3_late 3.6713780918727914\n",
      "candidate_ul2_v4 3.8197879858657244\n",
      "candidate_ul2_v2 3.8480565371024733\n"
     ]
    }
   ],
   "source": [
    "sorted_data_2nd = sorted(summed_dfs_2nd, key=lambda x: x[1])\n",
    "# Display the sorted list\n",
    "print('Second annotator')\n",
    "for item in sorted_data_2nd:\n",
    "    print(item[0], item[1]/283)"
   ]
  },
  {
   "cell_type": "markdown",
   "metadata": {},
   "source": [
    "Questions with all the same answers removed because these are already correct"
   ]
  },
  {
   "cell_type": "code",
   "execution_count": 173,
   "metadata": {},
   "outputs": [],
   "source": [
    "#first annotator\n",
    "unique_prefixes = set(col.split('_')[0] for col in df_first_annotator.columns)\n",
    "unique_prefixes\n",
    "\n",
    "# Create a list to store the columns to be removed because they are all the same answer, indicating an answer is already correct\n",
    "columns_to_remove_1 = []\n",
    "\n",
    "for prefix in unique_prefixes:\n",
    "    group = [col for col in df_first_annotator.columns if col.startswith(prefix + \"_\")]\n",
    "    #df_first_annotator[group] = df_first_annotator[group].apply(pd.to_numeric, errors='coerce')\n",
    "    #print(df_first_annotator[group].apply(lambda row: row.nunique() == 1, axis=1).values[0])\n",
    "    #break\n",
    "    # Check the standard deviation for the group of columns\n",
    "    if df_first_annotator[group].apply(lambda row: row.nunique() == 1, axis=1).values[0] == True:\n",
    "        #print(df_first_annotator[group])\n",
    "        columns_to_remove_1.extend(group)"
   ]
  },
  {
   "cell_type": "code",
   "execution_count": 174,
   "metadata": {},
   "outputs": [],
   "source": [
    "#second annotator\n",
    "unique_prefixes = set(col.split('_')[0] for col in df_2nd_annotator.columns)\n",
    "unique_prefixes\n",
    "\n",
    "# Create a list to store the columns to be removed\n",
    "columns_to_remove_2 = []\n",
    "\n",
    "for prefix in unique_prefixes:\n",
    "    group = [col for col in df_2nd_annotator.columns if col.startswith(prefix + \"_\")]\n",
    "    #df_first_annotator[group] = df_first_annotator[group].apply(pd.to_numeric, errors='coerce')\n",
    "    #print(df_first_annotator[group].apply(lambda row: row.nunique() == 1, axis=1).values[0])\n",
    "    #break\n",
    "    # Check the standard deviation for the group of columns\n",
    "    if df_2nd_annotator[group].apply(lambda row: row.nunique() == 1, axis=1).values[0] == True:\n",
    "        #print(df_first_annotator[group])\n",
    "        columns_to_remove_2.extend(group)"
   ]
  },
  {
   "cell_type": "code",
   "execution_count": 175,
   "metadata": {},
   "outputs": [
    {
     "data": {
      "text/plain": [
       "49.0"
      ]
     },
     "execution_count": 175,
     "metadata": {},
     "output_type": "execute_result"
    }
   ],
   "source": [
    "common_columns_to_remove = list(set(columns_to_remove_1).intersection(columns_to_remove_2))\n",
    "len(common_columns_to_remove)/11"
   ]
  },
  {
   "cell_type": "code",
   "execution_count": 176,
   "metadata": {},
   "outputs": [
    {
     "name": "stdout",
     "output_type": "stream",
     "text": [
      "First annotator\n",
      "candidate_mbart_v1 3.0256410256410255\n",
      "candidate_mbart_v3_late 3.2564102564102564\n",
      "candidate_mbart_v2 3.2564102564102564\n",
      "candidate_ul2_v1 3.264957264957265\n",
      "candidate_mbart_v4_late 3.324786324786325\n",
      "candidate_mbart_v3 3.358974358974359\n",
      "candidate_mbart_v4 3.3675213675213675\n",
      "candidate_ul2_v3 3.4786324786324787\n",
      "candidate_ul2_v3_late 3.547008547008547\n",
      "candidate_ul2_v4 3.594017094017094\n",
      "candidate_ul2_v2 3.606837606837607\n"
     ]
    }
   ],
   "source": [
    "#first annotator\n",
    "df_no_identical_1 = df_first_annotator.drop(columns=common_columns_to_remove)\n",
    "grouped = df_no_identical_1.groupby(df_no_identical_1.columns.str.split('_').str[-1], axis=1)\n",
    "\n",
    "options = ['candidate_mbart_v1','candidate_ul2_v1', 'candidate_mbart_v2', 'candidate_ul2_v2',\n",
    "       'candidate_mbart_v3', 'candidate_ul2_v3', 'candidate_mbart_v4',\n",
    "       'candidate_ul2_v4', 'candidate_ul2_v3_late', 'candidate_mbart_v3_late',\n",
    "       'candidate_mbart_v4_late']\n",
    "\n",
    "# Sum the values within each group \n",
    "summed_dfs_ni_1 = [(options[int(col)-1], grouped.get_group(col).fillna(0).astype(int).sum(numeric_only=True).sum()) for col in grouped.groups]\n",
    "\n",
    "sorted_data_ni_1 = sorted(summed_dfs_ni_1, key=lambda x: x[1])\n",
    "cr = len(common_columns_to_remove)/11\n",
    "print('First annotator')\n",
    "# Display the sorted list\n",
    "for item in sorted_data_ni_1:\n",
    "    print(item[0], item[1]/(283-cr))"
   ]
  },
  {
   "cell_type": "code",
   "execution_count": 177,
   "metadata": {},
   "outputs": [
    {
     "name": "stdout",
     "output_type": "stream",
     "text": [
      "Second annotator\n",
      "candidate_mbart_v1 3.0555555555555554\n",
      "candidate_mbart_v3_late 3.1495726495726495\n",
      "candidate_mbart_v4_late 3.1880341880341883\n",
      "candidate_ul2_v1 3.2735042735042734\n",
      "candidate_mbart_v2 3.2905982905982905\n",
      "candidate_mbart_v3 3.3290598290598292\n",
      "candidate_mbart_v4 3.3547008547008548\n",
      "candidate_ul2_v3 3.388888888888889\n",
      "candidate_ul2_v3_late 3.4358974358974357\n",
      "candidate_ul2_v4 3.6153846153846154\n",
      "candidate_ul2_v2 3.6495726495726495\n"
     ]
    }
   ],
   "source": [
    "#second annotator\n",
    "df_no_identical_2 = df_2nd_annotator.drop(columns=common_columns_to_remove)\n",
    "grouped = df_no_identical_2.groupby(df_no_identical_2.columns.str.split('_').str[-1], axis=1)\n",
    "\n",
    "# Sum the values within each group \n",
    "summed_dfs_ni_2 = [(options[int(col)-1], grouped.get_group(col).fillna(0).astype(int).sum(numeric_only=True).sum()) for col in grouped.groups]\n",
    "\n",
    "sorted_data_ni_2 = sorted(summed_dfs_ni_2, key=lambda x: x[1])\n",
    "cr = len(common_columns_to_remove)/11\n",
    "print('Second annotator')\n",
    "# Display the sorted list\n",
    "for item in sorted_data_ni_2:\n",
    "    print(item[0], item[1]/(283-cr))"
   ]
  },
  {
   "cell_type": "code",
   "execution_count": 178,
   "metadata": {},
   "outputs": [
    {
     "name": "stdout",
     "output_type": "stream",
     "text": [
      "Cohen's Kappa: 0.5397041119559087\n"
     ]
    }
   ],
   "source": [
    "from sklearn.metrics import cohen_kappa_score\n",
    "rater1_ratings = list(df_no_identical_1.iloc[0])\n",
    "rater2_ratings = list(df_no_identical_2.iloc[0])\n",
    "\n",
    "kappa = cohen_kappa_score(rater1_ratings, rater2_ratings, weights='quadratic')\n",
    "\n",
    "print(\"Cohen's Kappa:\", kappa)"
   ]
  },
  {
   "cell_type": "code",
   "execution_count": 179,
   "metadata": {},
   "outputs": [
    {
     "data": {
      "text/plain": [
       "2574"
      ]
     },
     "execution_count": 179,
     "metadata": {},
     "output_type": "execute_result"
    }
   ],
   "source": [
    "len(rater1_ratings)"
   ]
  },
  {
   "cell_type": "code",
   "execution_count": 180,
   "metadata": {},
   "outputs": [],
   "source": [
    "#Graph order\n",
    "result_dict = {}\n",
    "\n",
    "# Update the dictionary with values from list1\n",
    "for key, value in sorted_data_ni_1:\n",
    "    result_dict[key] = result_dict.get(key, 0) + value\n",
    "\n",
    "# Update the dictionary with values from list2\n",
    "for key, value in sorted_data_ni_2:\n",
    "    result_dict[key] = result_dict.get(key, 0) + value\n",
    "\n",
    "# Convert the dictionary back to a list of tuples\n",
    "result_list = list(result_dict.items())"
   ]
  },
  {
   "cell_type": "code",
   "execution_count": 183,
   "metadata": {},
   "outputs": [
    {
     "data": {
      "text/plain": [
       "[('candidate_ul2_v2', 1698),\n",
       " ('candidate_ul2_v4', 1687),\n",
       " ('candidate_ul2_v3_late', 1634),\n",
       " ('candidate_ul2_v3', 1607),\n",
       " ('candidate_mbart_v4', 1573),\n",
       " ('candidate_mbart_v3', 1565),\n",
       " ('candidate_mbart_v2', 1532),\n",
       " ('candidate_ul2_v1', 1530),\n",
       " ('candidate_mbart_v4_late', 1524),\n",
       " ('candidate_mbart_v3_late', 1499),\n",
       " ('candidate_mbart_v1', 1423)]"
      ]
     },
     "execution_count": 183,
     "metadata": {},
     "output_type": "execute_result"
    }
   ],
   "source": [
    "sorted_result_list"
   ]
  },
  {
   "cell_type": "code",
   "execution_count": 193,
   "metadata": {},
   "outputs": [
    {
     "data": {
      "text/plain": [
       "['candidate_mbart_v1',\n",
       " 'candidate_mbart_v3_late',\n",
       " 'candidate_mbart_v4_late',\n",
       " 'candidate_ul2_v1',\n",
       " 'candidate_mbart_v2',\n",
       " 'candidate_mbart_v3',\n",
       " 'candidate_mbart_v4',\n",
       " 'candidate_ul2_v3',\n",
       " 'candidate_ul2_v3_late',\n",
       " 'candidate_ul2_v4',\n",
       " 'candidate_ul2_v2']"
      ]
     },
     "execution_count": 193,
     "metadata": {},
     "output_type": "execute_result"
    }
   ],
   "source": [
    "categories"
   ]
  },
  {
   "cell_type": "code",
   "execution_count": 195,
   "metadata": {},
   "outputs": [
    {
     "data": {
      "text/plain": [
       "[('candidate_mbart_v1', 708),\n",
       " ('candidate_mbart_v3_late', 762),\n",
       " ('candidate_mbart_v2', 762),\n",
       " ('candidate_ul2_v1', 764),\n",
       " ('candidate_mbart_v4_late', 778),\n",
       " ('candidate_mbart_v3', 786),\n",
       " ('candidate_mbart_v4', 788),\n",
       " ('candidate_ul2_v3', 814),\n",
       " ('candidate_ul2_v3_late', 830),\n",
       " ('candidate_ul2_v4', 841),\n",
       " ('candidate_ul2_v2', 844)]"
      ]
     },
     "execution_count": 195,
     "metadata": {},
     "output_type": "execute_result"
    }
   ],
   "source": [
    "sorted_data_ni_1"
   ]
  },
  {
   "cell_type": "code",
   "execution_count": 203,
   "metadata": {},
   "outputs": [
    {
     "data": {
      "text/plain": [
       "[('candidate_mbart_v1', 715),\n",
       " ('candidate_mbart_v3_late', 737),\n",
       " ('candidate_mbart_v4_late', 746),\n",
       " ('candidate_ul2_v1', 766),\n",
       " ('candidate_mbart_v2', 770),\n",
       " ('candidate_mbart_v3', 779),\n",
       " ('candidate_mbart_v4', 785),\n",
       " ('candidate_ul2_v3', 793),\n",
       " ('candidate_ul2_v3_late', 804),\n",
       " ('candidate_ul2_v4', 846),\n",
       " ('candidate_ul2_v2', 854)]"
      ]
     },
     "execution_count": 203,
     "metadata": {},
     "output_type": "execute_result"
    }
   ],
   "source": [
    "order_annotator_2"
   ]
  },
  {
   "cell_type": "code",
   "execution_count": 207,
   "metadata": {},
   "outputs": [
    {
     "data": {
      "image/png": "[encoded data removed]",
      "text/plain": [
       "<Figure size 432x288 with 1 Axes>"
      ]
     },
     "metadata": {
      "needs_background": "light"
     },
     "output_type": "display_data"
    }
   ],
   "source": [
    "import matplotlib.pyplot as plt\n",
    "import numpy as np\n",
    "#.replace(\"candidate_\", \"\")\n",
    "# Data\n",
    "\n",
    "cr = len(common_columns_to_remove) / 11\n",
    "sorted_result_list = sorted(result_list, key=lambda x: x[1], reverse=False)\n",
    "categories = [item[0] for item in sorted_result_list]\n",
    "\n",
    "order_annotator_1 = sorted(sorted_data_ni_1, key=lambda x: categories.index(x[0]))\n",
    "order_annotator_2 = sorted(sorted_data_ni_2, key=lambda x: categories.index(x[0]))\n",
    "\n",
    "values_annotator_1 = [item[1] / (283 - cr) for item in order_annotator_1]\n",
    "values_annotator_2 = [item[1] / (283 - cr) for item in order_annotator_2]\n",
    "\n",
    "categories = [item[0].replace(\"candidate_\", \"\") for item in sorted_result_list]\n",
    "#sorted_list = sorted(sorted_data_ni_2, key=lambda x: [t[0] for t in sorted_data_ni_2].index(x[0]))\n",
    "#values_annotator_2 = [item[1] / (283 - cr) for item in sorted_list]\n",
    "\n",
    "# Set the width of the bars\n",
    "bar_width = 0.35\n",
    "\n",
    "# Create an array of indices for each category\n",
    "indices = np.arange(len(categories))\n",
    "\n",
    "# Create a horizontal bar chart with adjusted x-coordinates\n",
    "plt.barh(indices + bar_width/2, values_annotator_1, height=bar_width, color='green', alpha=0.5, label='Annotator 1')\n",
    "plt.barh(indices - bar_width/2, values_annotator_2, height=bar_width, color='red', alpha=0.5, label='Annotator 2')\n",
    "x_ticks_with_text = [1,2,3,4,5]\n",
    "x_labels = ['sign deter', 'slight deter', 'no deter/impr', 'slight impro', 'sign impro']\n",
    "# Write text under specified x-ticks\n",
    "for i, x_tick in enumerate(x_ticks_with_text):\n",
    "    plt.text(x_tick, -3, f'{x_labels[i]}', ha='center')\n",
    "# Set the x-axis limits to match the scale (from 0 to 1)\n",
    "plt.xlim(1, 5)\n",
    "\n",
    "# Set labels and title\n",
    "#plt.xlabel('Rating')\n",
    "#plt.title(\"Average rating 283 sentences per model\")\n",
    "plt.yticks(indices, categories)  # Set y-axis ticks to category labels\n",
    "plt.legend()\n",
    "\n",
    "# Show the chart\n",
    "plt.show()\n"
   ]
  },
  {
   "cell_type": "markdown",
   "metadata": {},
   "source": [
    "GPT VS MC4"
   ]
  },
  {
   "cell_type": "code",
   "execution_count": 208,
   "metadata": {},
   "outputs": [
    {
     "data": {
      "text/html": [
       "<div>\n",
       "<style scoped>\n",
       "    .dataframe tbody tr th:only-of-type {\n",
       "        vertical-align: middle;\n",
       "    }\n",
       "\n",
       "    .dataframe tbody tr th {\n",
       "        vertical-align: top;\n",
       "    }\n",
       "\n",
       "    .dataframe thead th {\n",
       "        text-align: right;\n",
       "    }\n",
       "</style>\n",
       "<table border=\"1\" class=\"dataframe\">\n",
       "  <thead>\n",
       "    <tr style=\"text-align: right;\">\n",
       "      <th></th>\n",
       "      <th>QID318_1</th>\n",
       "      <th>QID318_2</th>\n",
       "      <th>QID319_1</th>\n",
       "      <th>QID319_2</th>\n",
       "      <th>QID320_1</th>\n",
       "      <th>QID320_2</th>\n",
       "      <th>QID321_1</th>\n",
       "      <th>QID321_2</th>\n",
       "      <th>QID322_1</th>\n",
       "      <th>QID322_2</th>\n",
       "      <th>...</th>\n",
       "      <th>QID462_1</th>\n",
       "      <th>QID462_2</th>\n",
       "      <th>QID463_1</th>\n",
       "      <th>QID463_2</th>\n",
       "      <th>QID464_1</th>\n",
       "      <th>QID464_2</th>\n",
       "      <th>QID465_1</th>\n",
       "      <th>QID465_2</th>\n",
       "      <th>QID466_1</th>\n",
       "      <th>QID466_2</th>\n",
       "    </tr>\n",
       "  </thead>\n",
       "  <tbody>\n",
       "    <tr>\n",
       "      <th>0</th>\n",
       "      <td>4</td>\n",
       "      <td>2</td>\n",
       "      <td>5</td>\n",
       "      <td>3</td>\n",
       "      <td>4</td>\n",
       "      <td>3</td>\n",
       "      <td>4</td>\n",
       "      <td>3</td>\n",
       "      <td>4</td>\n",
       "      <td>4</td>\n",
       "      <td>...</td>\n",
       "      <td>4</td>\n",
       "      <td>3</td>\n",
       "      <td>2</td>\n",
       "      <td>2</td>\n",
       "      <td>3</td>\n",
       "      <td>2</td>\n",
       "      <td>4</td>\n",
       "      <td>3</td>\n",
       "      <td>2</td>\n",
       "      <td>4</td>\n",
       "    </tr>\n",
       "    <tr>\n",
       "      <th>1</th>\n",
       "      <td>3</td>\n",
       "      <td>4</td>\n",
       "      <td>4</td>\n",
       "      <td>3</td>\n",
       "      <td>5</td>\n",
       "      <td>3</td>\n",
       "      <td>4</td>\n",
       "      <td>3</td>\n",
       "      <td>5</td>\n",
       "      <td>3</td>\n",
       "      <td>...</td>\n",
       "      <td>4</td>\n",
       "      <td>3</td>\n",
       "      <td>2</td>\n",
       "      <td>4</td>\n",
       "      <td>2</td>\n",
       "      <td>1</td>\n",
       "      <td>3</td>\n",
       "      <td>3</td>\n",
       "      <td>2</td>\n",
       "      <td>4</td>\n",
       "    </tr>\n",
       "  </tbody>\n",
       "</table>\n",
       "<p>2 rows × 298 columns</p>\n",
       "</div>"
      ],
      "text/plain": [
       "   QID318_1  QID318_2  QID319_1  QID319_2  QID320_1  QID320_2  QID321_1  \\\n",
       "0         4         2         5         3         4         3         4   \n",
       "1         3         4         4         3         5         3         4   \n",
       "\n",
       "   QID321_2  QID322_1  QID322_2  ...  QID462_1  QID462_2  QID463_1  QID463_2  \\\n",
       "0         3         4         4  ...         4         3         2         2   \n",
       "1         3         5         3  ...         4         3         2         4   \n",
       "\n",
       "   QID464_1  QID464_2  QID465_1  QID465_2  QID466_1  QID466_2  \n",
       "0         3         2         4         3         2         4  \n",
       "1         2         1         3         3         2         4  \n",
       "\n",
       "[2 rows x 298 columns]"
      ]
     },
     "execution_count": 208,
     "metadata": {},
     "output_type": "execute_result"
    }
   ],
   "source": [
    "import pandas as pd\n",
    "df = pd.read_csv(\"D:/Documenten/Schoolwerk/paraphraser_code/evaluation/MC4_VS_GPT_anon.csv\")\n",
    "df = df.drop(columns=df.columns[df.columns.str.contains('Unnamed')])\n",
    "exclude_columns = ['StartDate', 'EndDate', 'Status', 'IPAddress', 'Progress',\n",
    "       'Duration (in seconds)', 'Finished', 'RecordedDate', 'ResponseId',\n",
    "       'RecipientLastName', 'RecipientFirstName', 'RecipientEmail',\n",
    "       'ExternalReference', 'LocationLatitude', 'LocationLongitude',\n",
    "       'DistributionChannel', 'UserLanguage']\n",
    "\n",
    "df.loc[:, ~df.columns.isin(exclude_columns)].iloc[0:2]"
   ]
  },
  {
   "cell_type": "code",
   "execution_count": 209,
   "metadata": {},
   "outputs": [
    {
     "data": {
      "text/html": [
       "<div>\n",
       "<style scoped>\n",
       "    .dataframe tbody tr th:only-of-type {\n",
       "        vertical-align: middle;\n",
       "    }\n",
       "\n",
       "    .dataframe tbody tr th {\n",
       "        vertical-align: top;\n",
       "    }\n",
       "\n",
       "    .dataframe thead th {\n",
       "        text-align: right;\n",
       "    }\n",
       "</style>\n",
       "<table border=\"1\" class=\"dataframe\">\n",
       "  <thead>\n",
       "    <tr style=\"text-align: right;\">\n",
       "      <th></th>\n",
       "      <th>QID318_1</th>\n",
       "      <th>QID318_2</th>\n",
       "      <th>QID319_1</th>\n",
       "      <th>QID319_2</th>\n",
       "      <th>QID320_1</th>\n",
       "      <th>QID320_2</th>\n",
       "      <th>QID321_1</th>\n",
       "      <th>QID321_2</th>\n",
       "      <th>QID322_1</th>\n",
       "      <th>QID322_2</th>\n",
       "      <th>...</th>\n",
       "      <th>QID462_1</th>\n",
       "      <th>QID462_2</th>\n",
       "      <th>QID463_1</th>\n",
       "      <th>QID463_2</th>\n",
       "      <th>QID464_1</th>\n",
       "      <th>QID464_2</th>\n",
       "      <th>QID465_1</th>\n",
       "      <th>QID465_2</th>\n",
       "      <th>QID466_1</th>\n",
       "      <th>QID466_2</th>\n",
       "    </tr>\n",
       "  </thead>\n",
       "  <tbody>\n",
       "    <tr>\n",
       "      <th>0</th>\n",
       "      <td>4</td>\n",
       "      <td>2</td>\n",
       "      <td>5</td>\n",
       "      <td>3</td>\n",
       "      <td>4</td>\n",
       "      <td>3</td>\n",
       "      <td>4</td>\n",
       "      <td>3</td>\n",
       "      <td>4</td>\n",
       "      <td>4</td>\n",
       "      <td>...</td>\n",
       "      <td>4</td>\n",
       "      <td>3</td>\n",
       "      <td>2</td>\n",
       "      <td>2</td>\n",
       "      <td>3</td>\n",
       "      <td>2</td>\n",
       "      <td>4</td>\n",
       "      <td>3</td>\n",
       "      <td>2</td>\n",
       "      <td>4</td>\n",
       "    </tr>\n",
       "  </tbody>\n",
       "</table>\n",
       "<p>1 rows × 298 columns</p>\n",
       "</div>"
      ],
      "text/plain": [
       "   QID318_1  QID318_2  QID319_1  QID319_2  QID320_1  QID320_2  QID321_1  \\\n",
       "0         4         2         5         3         4         3         4   \n",
       "\n",
       "   QID321_2  QID322_1  QID322_2  ...  QID462_1  QID462_2  QID463_1  QID463_2  \\\n",
       "0         3         4         4  ...         4         3         2         2   \n",
       "\n",
       "   QID464_1  QID464_2  QID465_1  QID465_2  QID466_1  QID466_2  \n",
       "0         3         2         4         3         2         4  \n",
       "\n",
       "[1 rows x 298 columns]"
      ]
     },
     "execution_count": 209,
     "metadata": {},
     "output_type": "execute_result"
    }
   ],
   "source": [
    "#grab first annotator answers\n",
    "df_first_annotator = df.loc[:, ~df.columns.isin(exclude_columns)].iloc[0:1]\n",
    "df_first_annotator"
   ]
  },
  {
   "cell_type": "code",
   "execution_count": 210,
   "metadata": {},
   "outputs": [
    {
     "data": {
      "text/plain": [
       "[('candidate_ul2_v2', 520), ('candidate_ul2_mc4', 476)]"
      ]
     },
     "execution_count": 210,
     "metadata": {},
     "output_type": "execute_result"
    }
   ],
   "source": [
    "#first annotator\n",
    "grouped = df_first_annotator.groupby(df_first_annotator.columns.str.split('_').str[-1], axis=1)\n",
    "#['Mbart_v1', 'Mbart_v2'................]\n",
    "options = ['candidate_ul2_v2', 'candidate_ul2_mc4']\n",
    "\n",
    "# Sum the values within each group \n",
    "summed_dfs = [(options[int(col)-1], grouped.get_group(col).fillna(0).astype(int).sum(numeric_only=True).sum()) for col in grouped.groups]\n",
    "summed_dfs"
   ]
  },
  {
   "cell_type": "code",
   "execution_count": 211,
   "metadata": {},
   "outputs": [
    {
     "data": {
      "text/plain": [
       "[('candidate_ul2_v2', 540), ('candidate_ul2_mc4', 485)]"
      ]
     },
     "execution_count": 211,
     "metadata": {},
     "output_type": "execute_result"
    }
   ],
   "source": [
    "#second annotator \n",
    "df_2nd_annotator = df.loc[:, ~df.columns.isin(exclude_columns)].iloc[1:2]\n",
    "\n",
    "grouped_2nd = df_2nd_annotator.groupby(df_2nd_annotator.columns.str.split('_').str[-1], axis=1)\n",
    "\n",
    "# Sum the values within each group \n",
    "summed_dfs_2nd = [(options[int(col)-1], grouped_2nd.get_group(col).fillna(0).astype(int).sum(numeric_only=True).sum()) for col in grouped_2nd.groups]\n",
    "summed_dfs_2nd"
   ]
  },
  {
   "cell_type": "code",
   "execution_count": 212,
   "metadata": {},
   "outputs": [
    {
     "data": {
      "text/plain": [
       "True"
      ]
     },
     "execution_count": 212,
     "metadata": {},
     "output_type": "execute_result"
    }
   ],
   "source": [
    "grouped_2nd.groups.keys() == grouped.groups.keys()"
   ]
  },
  {
   "cell_type": "code",
   "execution_count": 213,
   "metadata": {},
   "outputs": [
    {
     "name": "stdout",
     "output_type": "stream",
     "text": [
      "Cohen's Kappa: 0.6533564570026649\n"
     ]
    }
   ],
   "source": [
    "from sklearn.metrics import cohen_kappa_score\n",
    "rater1_ratings = list(df_first_annotator.iloc[0])\n",
    "rater2_ratings = list(df_2nd_annotator.iloc[0])\n",
    "\n",
    "kappa = cohen_kappa_score(rater1_ratings, rater2_ratings, weights='quadratic')\n",
    "\n",
    "print(\"Cohen's Kappa:\", kappa)"
   ]
  },
  {
   "cell_type": "code",
   "execution_count": 214,
   "metadata": {},
   "outputs": [
    {
     "data": {
      "text/plain": [
       "298"
      ]
     },
     "execution_count": 214,
     "metadata": {},
     "output_type": "execute_result"
    }
   ],
   "source": [
    "len(rater1_ratings)"
   ]
  },
  {
   "cell_type": "code",
   "execution_count": 215,
   "metadata": {},
   "outputs": [
    {
     "name": "stdout",
     "output_type": "stream",
     "text": [
      "First annotator\n",
      "candidate_ul2_mc4 3.1946308724832213\n",
      "candidate_ul2_v2 3.48993288590604\n",
      "Second annotator\n",
      "candidate_ul2_mc4 3.2550335570469797\n",
      "candidate_ul2_v2 3.6241610738255035\n"
     ]
    }
   ],
   "source": [
    "sorted_data_1 = sorted(summed_dfs, key=lambda x: x[1])\n",
    "# Display the sorted list\n",
    "print('First annotator')\n",
    "for item in sorted_data_1:\n",
    "    print(item[0], item[1]/149)\n",
    "\n",
    "sorted_data_2nd = sorted(summed_dfs_2nd, key=lambda x: x[1])\n",
    "# Display the sorted list\n",
    "print('Second annotator')\n",
    "for item in sorted_data_2nd:\n",
    "    print(item[0], item[1]/149)"
   ]
  },
  {
   "cell_type": "code",
   "execution_count": 216,
   "metadata": {},
   "outputs": [],
   "source": [
    "#first annotator\n",
    "unique_prefixes = set(col.split('_')[0] for col in df_first_annotator.columns)\n",
    "unique_prefixes\n",
    "\n",
    "# Create a list to store the columns to be removed because they are all the same answer, indicating an answer is already correct\n",
    "columns_to_remove_1 = []\n",
    "\n",
    "for prefix in unique_prefixes:\n",
    "    group = [col for col in df_first_annotator.columns if col.startswith(prefix + \"_\")]\n",
    "    #df_first_annotator[group] = df_first_annotator[group].apply(pd.to_numeric, errors='coerce')\n",
    "    #print(df_first_annotator[group].apply(lambda row: row.nunique() == 1, axis=1).values[0])\n",
    "    #break\n",
    "    # Check the standard deviation for the group of columns\n",
    "    if df_first_annotator[group].apply(lambda row: row.nunique() == 1, axis=1).values[0] == True:\n",
    "        #print(df_first_annotator[group])\n",
    "        columns_to_remove_1.extend(group)\n",
    "\n",
    "#second annotator\n",
    "unique_prefixes = set(col.split('_')[0] for col in df_2nd_annotator.columns)\n",
    "unique_prefixes\n",
    "\n",
    "# Create a list to store the columns to be removed\n",
    "columns_to_remove_2 = []\n",
    "\n",
    "for prefix in unique_prefixes:\n",
    "    group = [col for col in df_2nd_annotator.columns if col.startswith(prefix + \"_\")]\n",
    "    #df_first_annotator[group] = df_first_annotator[group].apply(pd.to_numeric, errors='coerce')\n",
    "    #print(df_first_annotator[group].apply(lambda row: row.nunique() == 1, axis=1).values[0])\n",
    "    #break\n",
    "    # Check the standard deviation for the group of columns\n",
    "    if df_2nd_annotator[group].apply(lambda row: row.nunique() == 1, axis=1).values[0] == True:\n",
    "        #print(df_first_annotator[group])\n",
    "        columns_to_remove_2.extend(group)"
   ]
  },
  {
   "cell_type": "code",
   "execution_count": 217,
   "metadata": {},
   "outputs": [
    {
     "name": "stdout",
     "output_type": "stream",
     "text": [
      "First annotator\n",
      "candidate_ul2_mc4 3.25\n",
      "candidate_ul2_v2 3.573529411764706\n",
      " \n",
      "Second annotator\n",
      "candidate_ul2_mc4 3.323529411764706\n",
      "candidate_ul2_v2 3.7279411764705883\n"
     ]
    }
   ],
   "source": [
    "common_columns_to_remove = list(set(columns_to_remove_1).intersection(columns_to_remove_2))\n",
    "len(common_columns_to_remove)/11\n",
    "\n",
    "#first annotator\n",
    "df_no_identical_1 = df_first_annotator.drop(columns=common_columns_to_remove)\n",
    "grouped = df_no_identical_1.groupby(df_no_identical_1.columns.str.split('_').str[-1], axis=1)\n",
    "#['Mbart_v1', 'Mbart_v2'................]\n",
    "\n",
    "# Sum the values within each group \n",
    "summed_dfs_ni_1 = [(options[int(col)-1], grouped.get_group(col).fillna(0).astype(int).sum(numeric_only=True).sum()) for col in grouped.groups]\n",
    "\n",
    "sorted_data_2 = sorted(summed_dfs_ni_1, key=lambda x: x[1])\n",
    "cr = len(common_columns_to_remove)/2\n",
    "print('First annotator')\n",
    "# Display the sorted list\n",
    "for item in sorted_data_2:\n",
    "    print(item[0], item[1]/(149-cr))\n",
    "\n",
    "#second annotator\n",
    "df_no_identical_2 = df_2nd_annotator.drop(columns=common_columns_to_remove)\n",
    "grouped = df_no_identical_2.groupby(df_no_identical_2.columns.str.split('_').str[-1], axis=1)\n",
    "#['Mbart_v1', 'Mbart_v2'................]\n",
    "\n",
    "# Sum the values within each group \n",
    "summed_dfs_ni_2 = [(options[int(col)-1], grouped.get_group(col).fillna(0).astype(int).sum(numeric_only=True).sum()) for col in grouped.groups]\n",
    "\n",
    "sorted_data_3 = sorted(summed_dfs_ni_2, key=lambda x: x[1])\n",
    "cr = len(common_columns_to_remove)/2\n",
    "print(' ')\n",
    "print('Second annotator')\n",
    "# Display the sorted list\n",
    "for item in sorted_data_3:\n",
    "    print(item[0], item[1]/(149-cr))"
   ]
  },
  {
   "cell_type": "code",
   "execution_count": 218,
   "metadata": {},
   "outputs": [
    {
     "name": "stdout",
     "output_type": "stream",
     "text": [
      "Cohen's Kappa: 0.6724009593912827\n"
     ]
    }
   ],
   "source": [
    "from sklearn.metrics import cohen_kappa_score\n",
    "rater1_ratings = list(df_no_identical_1.iloc[0])\n",
    "rater2_ratings = list(df_no_identical_2.iloc[0])\n",
    "\n",
    "kappa = cohen_kappa_score(rater1_ratings, rater2_ratings, weights='quadratic')\n",
    "\n",
    "print(\"Cohen's Kappa:\", kappa)"
   ]
  },
  {
   "cell_type": "code",
   "execution_count": 225,
   "metadata": {},
   "outputs": [
    {
     "data": {
      "text/plain": [
       "136.0"
      ]
     },
     "execution_count": 225,
     "metadata": {},
     "output_type": "execute_result"
    }
   ],
   "source": [
    "len(rater1_ratings)/2"
   ]
  },
  {
   "cell_type": "code",
   "execution_count": 223,
   "metadata": {},
   "outputs": [
    {
     "name": "stdout",
     "output_type": "stream",
     "text": [
      "0 1\n",
      "1 2\n",
      "2 3\n",
      "3 4\n",
      "4 5\n"
     ]
    },
    {
     "data": {
      "image/png": "[encoded data removed]",
      "text/plain": [
       "<Figure size 432x288 with 1 Axes>"
      ]
     },
     "metadata": {
      "needs_background": "light"
     },
     "output_type": "display_data"
    }
   ],
   "source": [
    "import matplotlib.pyplot as plt\n",
    "import numpy as np\n",
    "\n",
    "# Data\n",
    "categories = ['ul2_mc4', 'ul2_gpt']\n",
    "values_annotator_1 = [item[1] / (149 - cr) for item in sorted_data_2]\n",
    "sorted_list = sorted(sorted_data_3, key=lambda x: [t[0] for t in sorted_data_2].index(x[0]))\n",
    "values_annotator_2 = [item[1] / (149 - cr) for item in sorted_list]\n",
    "\n",
    "# Set the width of the bars\n",
    "bar_width = 0.35\n",
    "\n",
    "# Create an array of indices for each category\n",
    "indices = np.arange(len(categories))\n",
    "\n",
    "# Create a horizontal bar chart with adjusted x-coordinates\n",
    "plt.barh(indices + bar_width/2, values_annotator_1, height=bar_width, color='green', alpha=0.5, label='Annotator 1')\n",
    "plt.barh(indices - bar_width/2, values_annotator_2, height=bar_width, color='red', alpha=0.5, label='Annotator 2')\n",
    "\n",
    "x_ticks_with_text = [1,2,3,4,5]\n",
    "x_labels = ['sign deter', 'slight deter', 'no deter/impr', 'slight impro', 'sign impro']\n",
    "# Write text under specified x-ticks\n",
    "for i, x_tick in enumerate(x_ticks_with_text):\n",
    "    print(i, x_tick)\n",
    "    plt.text(x_tick, -0.7, f'{x_labels[i]}', ha='center')\n",
    "    \n",
    "# Set the x-axis limits to match the scale (from 0 to 1)\n",
    "plt.xlim(1, 5)\n",
    "\n",
    "# Set labels and title\n",
    "#plt.xlabel('Rating')\n",
    "#plt.title(\"Average rating 283 sentences per model\")\n",
    "plt.yticks(indices, categories)  # Set y-axis ticks to category labels\n",
    "plt.legend()\n",
    "\n",
    "# Show the chart\n",
    "plt.show()\n"
   ]
  },
  {
   "cell_type": "code",
   "execution_count": 220,
   "metadata": {},
   "outputs": [
    {
     "data": {
      "image/png": "[encoded data removed]",
      "text/plain": [
       "<Figure size 432x288 with 1 Axes>"
      ]
     },
     "metadata": {
      "needs_background": "light"
     },
     "output_type": "display_data"
    }
   ],
   "source": [
    "import matplotlib.pyplot as plt\n",
    "import numpy as np\n",
    "#.replace(\"candidate_\", \"\")\n",
    "# Data\n",
    "\n",
    "cr = len(common_columns_to_remove) / 11\n",
    "sorted_result_list = sorted(result_list, key=lambda x: x[1], reverse=False)\n",
    "categories = [item[0] for item in sorted_result_list]\n",
    "\n",
    "order_annotator_1 = sorted(sorted_data_ni_1, key=lambda x: categories.index(x[0]))\n",
    "order_annotator_2 = sorted(sorted_data_ni_2, key=lambda x: categories.index(x[0]))\n",
    "\n",
    "values_annotator_1 = [item[1] / (283 - cr) for item in order_annotator_1]\n",
    "values_annotator_2 = [item[1] / (283 - cr) for item in order_annotator_2]\n",
    "\n",
    "categories = [item[0].replace(\"candidate_\", \"\") for item in sorted_result_list]\n",
    "#sorted_list = sorted(sorted_data_ni_2, key=lambda x: [t[0] for t in sorted_data_ni_2].index(x[0]))\n",
    "#values_annotator_2 = [item[1] / (283 - cr) for item in sorted_list]\n",
    "\n",
    "# Set the width of the bars\n",
    "bar_width = 0.35\n",
    "\n",
    "# Create an array of indices for each category\n",
    "indices = np.arange(len(categories))\n",
    "\n",
    "# Create a horizontal bar chart with adjusted x-coordinates\n",
    "plt.barh(indices + bar_width/2, values_annotator_1, height=bar_width, color='green', alpha=0.5, label='Annotator 1')\n",
    "plt.barh(indices - bar_width/2, values_annotator_2, height=bar_width, color='red', alpha=0.5, label='Annotator 2')\n",
    "x_ticks_with_text = [1,2,3,4,5]\n",
    "x_labels = ['sign deter', 'slight deter', 'no deter/impr', 'slight impro', 'sign impro']\n",
    "# Write text under specified x-ticks\n",
    "for i, x_tick in enumerate(x_ticks_with_text):\n",
    "    plt.text(x_tick, -3, f'{x_labels[i]}', ha='center')\n",
    "# Set the x-axis limits to match the scale (from 0 to 1)\n",
    "plt.xlim(1, 5)\n",
    "\n",
    "# Set labels and title\n",
    "#plt.xlabel('Rating')\n",
    "#plt.title(\"Average rating 283 sentences per model\")\n",
    "plt.yticks(indices, categories)  # Set y-axis ticks to category labels\n",
    "plt.legend()\n",
    "\n",
    "# Show the chart\n",
    "plt.show()"
   ]
  },
  {
   "cell_type": "markdown",
   "metadata": {},
   "source": [
    "ABANDONED METHOD BELOW\n"
   ]
  },
  {
   "cell_type": "code",
   "execution_count": 43,
   "metadata": {},
   "outputs": [
    {
     "data": {
      "text/plain": [
       "86.0"
      ]
     },
     "execution_count": 43,
     "metadata": {},
     "output_type": "execute_result"
    }
   ],
   "source": [
    "#ABANDONED 100 sentences for human evaluation\n",
    "#highest variance. Grab all models with 5 different ratings and 4 different ratings and a sample of 3 different ratings.\n",
    "unique_prefixes = set(col.split('_')[0] for col in df_first_annotator.columns)\n",
    "unique_prefixes\n",
    "\n",
    "# Create a list to store the columns to be removed\n",
    "columns_five = []\n",
    "\n",
    "for prefix in unique_prefixes:\n",
    "    group = [col for col in df_first_annotator if col.startswith(prefix + \"_\")]\n",
    "    #df_first_annotator[group] = df_first_annotator[group].apply(pd.to_numeric, errors='coerce')\n",
    "    #print(df_first_annotator[group].apply(lambda row: row.nunique() == 1, axis=1).values[0])\n",
    "    #break\n",
    "    #for i in range(3):\n",
    "    #    print(i+3)\n",
    "    if df_first_annotator[group].apply(lambda row: row.nunique() == 3, axis=1).values[0] == True:\n",
    "            #print(df_first_annotator[group])\n",
    "            #print(group)\n",
    "            #break\n",
    "        columns_five.extend(group)\n",
    "\n",
    "# Remove columns with the same value\n",
    "len(columns_five)/11\n",
    "#df = df.drop(columns=columns_to_remove)"
   ]
  },
  {
   "cell_type": "code",
   "execution_count": 37,
   "metadata": {},
   "outputs": [],
   "source": [
    "all_indexes = []"
   ]
  },
  {
   "cell_type": "code",
   "execution_count": 40,
   "metadata": {},
   "outputs": [
    {
     "data": {
      "text/plain": [
       "56"
      ]
     },
     "execution_count": 40,
     "metadata": {},
     "output_type": "execute_result"
    }
   ],
   "source": [
    "import re\n",
    "result_list = [re.search(r'QID(\\d+)_', item).group(1) for item in columns_five]\n",
    "all_indexes.extend(list(set(result_list)))\n",
    "len(all_indexes)"
   ]
  },
  {
   "cell_type": "code",
   "execution_count": 44,
   "metadata": {},
   "outputs": [],
   "source": [
    "import random\n",
    "#3\n",
    "result_list = [re.search(r'QID(\\d+)_', item).group(1) for item in columns_five]\n",
    "random_selection = random.sample(list(set(result_list)), 44)\n",
    "all_indexes.extend(random_selection)"
   ]
  },
  {
   "cell_type": "code",
   "execution_count": 45,
   "metadata": {},
   "outputs": [
    {
     "data": {
      "text/plain": [
       "100"
      ]
     },
     "execution_count": 45,
     "metadata": {},
     "output_type": "execute_result"
    }
   ],
   "source": [
    "#make it 100 by adding nunique 5, 4 and sample of 3\n",
    "len(all_indexes)"
   ]
  },
  {
   "cell_type": "code",
   "execution_count": 46,
   "metadata": {},
   "outputs": [],
   "source": [
    "import random\n",
    "actual_indexes = [int(index)-2 for index in all_indexes]\n",
    "random.shuffle(actual_indexes)"
   ]
  },
  {
   "cell_type": "code",
   "execution_count": 48,
   "metadata": {},
   "outputs": [],
   "source": [
    "df_2nd_annotator = pd.read_csv(\"E:\\Data_exploration\\GitHub\\paraphraser_code\\data\\candidates\\candidates_annotated_sentences.csv\")\n",
    "#df_2nd_annotator.iloc[actual_indexes]"
   ]
  },
  {
   "cell_type": "code",
   "execution_count": 94,
   "metadata": {},
   "outputs": [],
   "source": [
    "#df_2nd_annotator.iloc[actual_indexes].to_csv('E:/Data_exploration/Floris_training/paraphraser_data/benchmarks/100_sentences_selection.csv', index=False)"
   ]
  }
 ],
 "metadata": {
  "kernelspec": {
   "display_name": "Python 3",
   "language": "python",
   "name": "python3"
  },
  "language_info": {
   "codemirror_mode": {
    "name": "ipython",
    "version": 3
   },
   "file_extension": ".py",
   "mimetype": "text/x-python",
   "name": "python",
   "nbconvert_exporter": "python",
   "pygments_lexer": "ipython3",
   "version": "3.9.1"
  },
  "orig_nbformat": 4
 },
 "nbformat": 4,
 "nbformat_minor": 2
}
