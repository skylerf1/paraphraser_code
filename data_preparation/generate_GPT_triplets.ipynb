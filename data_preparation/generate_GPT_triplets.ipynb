{
 "cells": [
  {
   "cell_type": "code",
   "execution_count": 8,
   "metadata": {},
   "outputs": [],
   "source": [
    "import pandas as pd\n",
    "import openai\n",
    "import csv\n",
    "import time\n",
    "import os\n",
    "import regex as re\n",
    "import math\n",
    "import random\n",
    "\n",
    "import openai\n",
    "\n",
    "pd.set_option('display.max_colwidth', None)\n",
    "file_path = \"D:/api_key.txt\"\n",
    "with open(file_path, 'r') as file:\n",
    "    api_key = file.read()\n",
    "\n",
    "openai.api_key = (api_key)"
   ]
  },
  {
   "cell_type": "code",
   "execution_count": 9,
   "metadata": {},
   "outputs": [],
   "source": [
    "def genereer_data(keywords, voorbeeld_zin, voorbeeld_zin2, temp =1, top_p=0.9, n=5, pp=0):\n",
    "    generate_correct = '''Genereer medische tekst. De tekst is kort en bondig geschreven en \n",
    "    brengt de essentie over van relevante gebeurtenissen van de dag of dagdeel. \n",
    "    Het gaat over een oudere client die zorg ontvangt. De tekst is geschreven door een \n",
    "    zorgprofessional die geen moeilijke woorden gebruikt. \n",
    "    Bijvoorbeeld: ''' + voorbeeld_zin + \"Bijvoorbeeld: \" + voorbeeld_zin2\n",
    "    message_history = []\n",
    "    message_history.append({'role' : \"system\", \"content\": generate_correct})\n",
    "    message_history.append({\"role\": \"user\", 'content' : 'genereer 1 tekst met de volgende woorden: '+ keywords})\n",
    "\n",
    "    completion = openai.ChatCompletion.create(\n",
    "        model='gpt-3.5-turbo',messages=message_history,\n",
    "        temperature=temp,\n",
    "        top_p=top_p,\n",
    "        presence_penalty=0,\n",
    "        n=n\n",
    "    )\n",
    "    return completion"
   ]
  },
  {
   "cell_type": "code",
   "execution_count": 10,
   "metadata": {},
   "outputs": [],
   "source": [
    "def sample_from_df(df):\n",
    "    random_row = df.sample()\n",
    "    # extract the values of the sampled row\n",
    "    values = random_row.values[0]\n",
    "    # print the values as a string\n",
    "    voorbeeld_zin = (''.join(map(str, values)))\n",
    "\n",
    "    same = True\n",
    "    while same == True:\n",
    "        random_row = df.sample()\n",
    "        # extract the values of the sampled row\n",
    "        values = random_row.values[0]\n",
    "        # print the values as a string\n",
    "        voorbeeld_zin2= (''.join(map(str, values)))\n",
    "        if voorbeeld_zin != voorbeeld_zin2:\n",
    "            same = False\n",
    "\n",
    "    return voorbeeld_zin, voorbeeld_zin2"
   ]
  },
  {
   "cell_type": "code",
   "execution_count": 11,
   "metadata": {},
   "outputs": [],
   "source": [
    "def sample_from_examples_length_based(df, length_column_name, text_column_name, length, length_range = 2):\n",
    "    filtered_df = df[(df[length_column_name] >= (length -length_range)) & (df[length_column_name] <= (length +length_range))]\n",
    "\n",
    "    example_1 = filtered_df[text_column_name].sample().values[0]\n",
    "\n",
    "    same = True\n",
    "    while same == True:\n",
    "        example_2 = filtered_df[text_column_name].sample().values[0]\n",
    "\n",
    "        if example_2 != example_1:\n",
    "            same = False\n",
    "\n",
    "    return example_1, example_2\n"
   ]
  },
  {
   "cell_type": "code",
   "execution_count": 12,
   "metadata": {},
   "outputs": [],
   "source": [
    "def generate_keyword_data(df, output_file_path, keywords_df, amount_per_combination, temp, top_p, generation_limit, pp):\n",
    "    # check if output file already exists\n",
    "    if os.path.exists(output_file_path):\n",
    "        # if it does, read the last row that was successfully processed\n",
    "        with open(output_file_path, 'r', encoding='utf-8') as output_file:\n",
    "            reader = csv.reader(output_file)\n",
    "            for row in reader:\n",
    "                pass\n",
    "            last_row_processed = reader.line_num\n",
    "    else:\n",
    "        # if it doesn't, set last_row_processed to 0\n",
    "        last_row_processed = 0\n",
    "\n",
    "    # open input and output files\n",
    "    #ISO-8859-1\n",
    "    with open(output_file_path, 'a', newline='', encoding='utf-8') as output_file:\n",
    "        writer = csv.writer(output_file)\n",
    "\n",
    "        #If initializing a new document, skip the header and rewrite the new format.\n",
    "        if last_row_processed == 0:\n",
    "            writer.writerow(['Generated', 'Example_1', 'Example_2', 'Temperature', \"Top_p\", \"Pres_penalty\", 'Keywords'])\n",
    "        number_generated = 0\n",
    "        while generation_limit > number_generated:\n",
    "            voorbeeld_zin, voorbeeld_zin2 = sample_from_df(df)\n",
    "            keywords = keywords_df.sample(1).values[0]\n",
    "            #print(reader.line_num)\n",
    "            retries = 0\n",
    "            while retries <= 10:\n",
    "                if retries == 5:\n",
    "                    print('failed 5 times in a row.. waiting 30 seconds')\n",
    "                    time.sleep(30)\n",
    "                try:\n",
    "                    completion = genereer_data(voorbeeld_zin, voorbeeld_zin2, n = amount_per_combination, temp=temp, top_p=top_p )\n",
    "                    #print(reply_content)\n",
    "                    break\n",
    "                except:\n",
    "                    # if API call fails, wait for 10 seconds and retry\n",
    "                    retries += 1\n",
    "                    if retries == 10:\n",
    "                        exit(\"10 retries failed in a row.\")\n",
    "                    print('failed ', retries, ' times... retrying in 10 seconds')\n",
    "                    time.sleep(10)\n",
    "                    #Longer prompt costs more.\n",
    "                    completion = genereer_data(keywords, voorbeeld_zin, voorbeeld_zin2, n = amount_per_combination, temp=temp, top_p=top_p )\n",
    "                    break\n",
    "            for i in range(len(completion.choices)):\n",
    "                writer.writerow([completion.choices[i].message.content, voorbeeld_zin, voorbeeld_zin2, temp, top_p, pp, keywords])\n",
    "                number_generated += 1\n",
    "                print('Rows Processed:', number_generated)\n",
    "\n",
    "            # flush output file buffer to ensure data is saved\n",
    "                output_file.flush()\n",
    "\n",
    "                # print progress\n",
    "                #print(f\"Processed row {last_row_processed}\")\n",
    "                # break out of loop if num_rows is reached\n",
    "                if generation_limit is not None and number_generated >= generation_limit:\n",
    "                    print('Generation limit reached')\n",
    "                    break\n"
   ]
  },
  {
   "cell_type": "code",
   "execution_count": 13,
   "metadata": {},
   "outputs": [
    {
     "name": "stdout",
     "output_type": "stream",
     "text": [
      "failed  1  times... retrying in 10 seconds\n"
     ]
    }
   ],
   "source": [
    "df = pd.read_csv(\"hand_made_correct_medical.csv\", sep=',', encoding='ISO-8859-1', header=None)\n",
    "keyword_df = pd.read_csv('keywords3_v1.csv')\n",
    "#generated_keywords are saved in v1 to v4 but are all made the same way\n",
    "generate_keyword_data(df=df, output_file_path='E:/Data_exploration/GitHub/paraphraser_code/data/generated/generated_keyword3_v1.csv',keywords_df=keyword_df['keywords'], amount_per_combination=5, temp=1, top_p=0.9, generation_limit=3200, pp=0)"
   ]
  }
 ],
 "metadata": {
  "kernelspec": {
   "display_name": "Python 3",
   "language": "python",
   "name": "python3"
  },
  "language_info": {
   "codemirror_mode": {
    "name": "ipython",
    "version": 3
   },
   "file_extension": ".py",
   "mimetype": "text/x-python",
   "name": "python",
   "nbconvert_exporter": "python",
   "pygments_lexer": "ipython3",
   "version": "3.11.2"
  },
  "orig_nbformat": 4
 },
 "nbformat": 4,
 "nbformat_minor": 2
}
