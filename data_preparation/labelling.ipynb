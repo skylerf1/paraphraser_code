{
 "cells": [
  {
   "cell_type": "code",
   "execution_count": 2,
   "metadata": {},
   "outputs": [],
   "source": [
    "import pandas as pd\n",
    "from functions import abbr_substitutor"
   ]
  },
  {
   "cell_type": "code",
   "execution_count": 3,
   "metadata": {},
   "outputs": [
    {
     "data": {
      "text/html": [
       "<div>\n",
       "<style scoped>\n",
       "    .dataframe tbody tr th:only-of-type {\n",
       "        vertical-align: middle;\n",
       "    }\n",
       "\n",
       "    .dataframe tbody tr th {\n",
       "        vertical-align: top;\n",
       "    }\n",
       "\n",
       "    .dataframe thead th {\n",
       "        text-align: right;\n",
       "    }\n",
       "</style>\n",
       "<table border=\"1\" class=\"dataframe\">\n",
       "  <thead>\n",
       "    <tr style=\"text-align: right;\">\n",
       "      <th></th>\n",
       "      <th>comment</th>\n",
       "      <th>preprocessed</th>\n",
       "      <th>num_words</th>\n",
       "    </tr>\n",
       "  </thead>\n",
       "  <tbody>\n",
       "    <tr>\n",
       "      <th>0</th>\n",
       "      <td>O.mw heeft goed gegeten .redelijk gedronken.li...</td>\n",
       "      <td>O.mw heeft goed gegeten .redelijk gedronken.li...</td>\n",
       "      <td>17</td>\n",
       "    </tr>\n",
       "    <tr>\n",
       "      <th>1</th>\n",
       "      <td>o: Observatie van pijnlijk teen van mw. Mw. is...</td>\n",
       "      <td>Observatie van pijnlijk teen van mevrouw Mevr...</td>\n",
       "      <td>31</td>\n",
       "    </tr>\n",
       "    <tr>\n",
       "      <th>2</th>\n",
       "      <td>O evaluatie wondzorg. Wond op stuit beoordeeld...</td>\n",
       "      <td>evaluatie wondzorg. Wond op stuit beoordeeld....</td>\n",
       "      <td>51</td>\n",
       "    </tr>\n",
       "    <tr>\n",
       "      <th>3</th>\n",
       "      <td>Dhr had vanmorgen puur bloed via de cad. spoel...</td>\n",
       "      <td>Meneer had vanmorgen puur bloed via de cad. sp...</td>\n",
       "      <td>70</td>\n",
       "    </tr>\n",
       "    <tr>\n",
       "      <th>4</th>\n",
       "      <td>Mv. Lag nog in bed en voelde zich niet lekker....</td>\n",
       "      <td>Mevrouw Lag nog in bed en voelde zich niet lek...</td>\n",
       "      <td>74</td>\n",
       "    </tr>\n",
       "    <tr>\n",
       "      <th>...</th>\n",
       "      <td>...</td>\n",
       "      <td>...</td>\n",
       "      <td>...</td>\n",
       "    </tr>\n",
       "    <tr>\n",
       "      <th>9995</th>\n",
       "      <td>In de middag gemeten.  Digitaal  linker arm</td>\n",
       "      <td>In de middag gemeten. Digitaal linker arm</td>\n",
       "      <td>7</td>\n",
       "    </tr>\n",
       "    <tr>\n",
       "      <th>9996</th>\n",
       "      <td>Fysiotherapie  S: ja het gaat wel. Ik ben beni...</td>\n",
       "      <td>Fysiotherapie  ja het gaat wel. Ik ben benieuw...</td>\n",
       "      <td>41</td>\n",
       "    </tr>\n",
       "    <tr>\n",
       "      <th>9997</th>\n",
       "      <td>O Dhr was bij het naar bed gaan flink inc van ...</td>\n",
       "      <td>Meneer was bij het naar bed gaan flink incont...</td>\n",
       "      <td>34</td>\n",
       "    </tr>\n",
       "    <tr>\n",
       "      <th>9998</th>\n",
       "      <td>Lichamelijk welbevinden: S: Nee  hoor vlgs de ...</td>\n",
       "      <td>Lichamelijk welbevinden:  Nee hoor volgens de ...</td>\n",
       "      <td>57</td>\n",
       "    </tr>\n",
       "    <tr>\n",
       "      <th>9999</th>\n",
       "      <td>Mw kwam om 7.30 de gang op  had dorst en trek ...</td>\n",
       "      <td>Mevrouw kwam om 7.30 de gang op had dorst en t...</td>\n",
       "      <td>76</td>\n",
       "    </tr>\n",
       "  </tbody>\n",
       "</table>\n",
       "<p>10000 rows × 3 columns</p>\n",
       "</div>"
      ],
      "text/plain": [
       "                                                comment  \\\n",
       "0     O.mw heeft goed gegeten .redelijk gedronken.li...   \n",
       "1     o: Observatie van pijnlijk teen van mw. Mw. is...   \n",
       "2     O evaluatie wondzorg. Wond op stuit beoordeeld...   \n",
       "3     Dhr had vanmorgen puur bloed via de cad. spoel...   \n",
       "4     Mv. Lag nog in bed en voelde zich niet lekker....   \n",
       "...                                                 ...   \n",
       "9995        In de middag gemeten.  Digitaal  linker arm   \n",
       "9996  Fysiotherapie  S: ja het gaat wel. Ik ben beni...   \n",
       "9997  O Dhr was bij het naar bed gaan flink inc van ...   \n",
       "9998  Lichamelijk welbevinden: S: Nee  hoor vlgs de ...   \n",
       "9999  Mw kwam om 7.30 de gang op  had dorst en trek ...   \n",
       "\n",
       "                                           preprocessed  num_words  \n",
       "0     O.mw heeft goed gegeten .redelijk gedronken.li...         17  \n",
       "1      Observatie van pijnlijk teen van mevrouw Mevr...         31  \n",
       "2      evaluatie wondzorg. Wond op stuit beoordeeld....         51  \n",
       "3     Meneer had vanmorgen puur bloed via de cad. sp...         70  \n",
       "4     Mevrouw Lag nog in bed en voelde zich niet lek...         74  \n",
       "...                                                 ...        ...  \n",
       "9995          In de middag gemeten. Digitaal linker arm          7  \n",
       "9996  Fysiotherapie  ja het gaat wel. Ik ben benieuw...         41  \n",
       "9997   Meneer was bij het naar bed gaan flink incont...         34  \n",
       "9998  Lichamelijk welbevinden:  Nee hoor volgens de ...         57  \n",
       "9999  Mevrouw kwam om 7.30 de gang op had dorst en t...         76  \n",
       "\n",
       "[10000 rows x 3 columns]"
      ]
     },
     "execution_count": 3,
     "metadata": {},
     "output_type": "execute_result"
    }
   ],
   "source": [
    "# Read in the large CSV file\n",
    "df = pd.read_csv('careplan_reports_preprocessed.csv', sep=',', encoding='ISO-8859-1').sample(n=10000).reset_index(drop=True)#careplan_reports-clean_v2\n",
    "df"
   ]
  },
  {
   "cell_type": "code",
   "execution_count": 6,
   "metadata": {},
   "outputs": [
    {
     "name": "stdout",
     "output_type": "stream",
     "text": [
      "o: Observatie van pijnlijk teen van mw. Mw. is al door de afdeling aangemeld voor de pedicure. Mw. wordt momenteel nog gezwachteld  als steunkousen binnen zijn wordt de schoenen/pantoffels nog beoordeeld. \n",
      " Observatie van pijnlijk teen van mevrouw Mevrouw is al door de afdeling aangemeld voor de pedicure. Mevrouw wordt momenteel nog gezwachteld als steunkousen binnen zijn wordt de schoenen/pantoffels nog beoordeeld.\n"
     ]
    }
   ],
   "source": [
    "x=1\n",
    "base = df.iloc[x]['comment']\n",
    "cleaned = df.iloc[x]['preprocessed']\n",
    "print(base)\n",
    "print(cleaned)"
   ]
  },
  {
   "cell_type": "code",
   "execution_count": 6,
   "metadata": {},
   "outputs": [],
   "source": [
    "text = \"Meneer heeft meegedaan met overgooien lekker hard gooien meneer heeft hier flink van genoten.\""
   ]
  },
  {
   "cell_type": "code",
   "execution_count": 7,
   "metadata": {},
   "outputs": [],
   "source": [
    "import csv\n",
    "\n",
    "# Set up the file path\n",
    "filepath = \"hand_made_correct_medical.csv\"\n",
    "\n",
    "# Define the row data as a list\n",
    "row_data = [text]\n",
    "\n",
    "# Open the CSV file in append mode\n",
    "with open(filepath, mode='a', newline='') as csv_file:\n",
    "    writer = csv.writer(csv_file)\n",
    "    writer.writerow(row_data)\n"
   ]
  }
 ],
 "metadata": {
  "kernelspec": {
   "display_name": "Python 3",
   "language": "python",
   "name": "python3"
  },
  "language_info": {
   "codemirror_mode": {
    "name": "ipython",
    "version": 3
   },
   "file_extension": ".py",
   "mimetype": "text/x-python",
   "name": "python",
   "nbconvert_exporter": "python",
   "pygments_lexer": "ipython3",
   "version": "3.11.2"
  },
  "orig_nbformat": 4
 },
 "nbformat": 4,
 "nbformat_minor": 2
}
